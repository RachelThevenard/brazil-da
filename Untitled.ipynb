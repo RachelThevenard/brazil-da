{
 "cells": [
  {
   "cell_type": "code",
   "execution_count": 4,
   "id": "e351a921",
   "metadata": {},
   "outputs": [],
   "source": [
    "import pandas as pd\n",
    "import os\n",
    "#import geopandas as gpd"
   ]
  },
  {
   "cell_type": "code",
   "execution_count": 14,
   "id": "c31e2363",
   "metadata": {},
   "outputs": [],
   "source": [
    "#load data\n",
    "f = \"./data/\"\n",
    "\n",
    "# 1_General\n",
    "g = '1_General_xls' + '/'\n",
    "g_pop_geo = pd.read_excel(f + g + 'Tabela 1.1 (Pop_Geo).xls')\n",
    "g_pop_idad = pd.read_excel(f + g + 'Tabela 1.2 (Pop_Idad).xls')\n",
    "g_por_sex_idad = pd.read_excel(f + g + 'Tabela 1.3 (Por_Sex_Idad).xls')"
   ]
  },
  {
   "cell_type": "code",
   "execution_count": 15,
   "id": "b9a9c0c0",
   "metadata": {},
   "outputs": [
    {
     "data": {
      "text/plain": [
       "['Tabela 2.1 (Indic_BR).xls',\n",
       " 'Tabela 2.10 (Rend_Pecent_Geo).xls',\n",
       " 'Tabela 2.11 (Pobr_Geo_GR).xls',\n",
       " 'Tabela 2.12 (Pobr_Geo_UF).xls',\n",
       " 'Tabela 2.13 (RDPC_Geo).xls',\n",
       " 'Tabela 2.2 (Indic_Geo).xls',\n",
       " 'Tabela 2.3 (Inform_Sex_Geo).xls',\n",
       " 'Tabela 2.4 (Form_Geo).xls',\n",
       " 'Tabela 2.5 (Rend_Form_Geo).xls',\n",
       " 'Tabela 2.6 (Rend_Sex_Geo).xls',\n",
       " 'Tabela 2.7 (Rend_Instr_Geo).xls',\n",
       " 'Tabela 2.8 (Cargos).xls',\n",
       " 'Tabela 2.9 (Rend_Percent_10_Geo).xls']"
      ]
     },
     "execution_count": 15,
     "metadata": {},
     "output_type": "execute_result"
    }
   ],
   "source": [
    "os.listdir(\"data/2_Work_Income_xls\")"
   ]
  },
  {
   "cell_type": "code",
   "execution_count": 16,
   "id": "927b9efc",
   "metadata": {},
   "outputs": [
    {
     "data": {
      "text/html": [
       "<div>\n",
       "<style scoped>\n",
       "    .dataframe tbody tr th:only-of-type {\n",
       "        vertical-align: middle;\n",
       "    }\n",
       "\n",
       "    .dataframe tbody tr th {\n",
       "        vertical-align: top;\n",
       "    }\n",
       "\n",
       "    .dataframe thead th {\n",
       "        text-align: right;\n",
       "    }\n",
       "</style>\n",
       "<table border=\"1\" class=\"dataframe\">\n",
       "  <thead>\n",
       "    <tr style=\"text-align: right;\">\n",
       "      <th></th>\n",
       "      <th>Tabela 1.1 - Distribuição da população, por cor ou raça, segundo Grandes Regiões e Unidades da Federação - Brasil - 2021</th>\n",
       "      <th>Unnamed: 1</th>\n",
       "      <th>Unnamed: 2</th>\n",
       "      <th>Unnamed: 3</th>\n",
       "      <th>Unnamed: 4</th>\n",
       "      <th>Unnamed: 5</th>\n",
       "    </tr>\n",
       "  </thead>\n",
       "  <tbody>\n",
       "    <tr>\n",
       "      <th>0</th>\n",
       "      <td>NaN</td>\n",
       "      <td>NaN</td>\n",
       "      <td>NaN</td>\n",
       "      <td>NaN</td>\n",
       "      <td>NaN</td>\n",
       "      <td>NaN</td>\n",
       "    </tr>\n",
       "    <tr>\n",
       "      <th>1</th>\n",
       "      <td>NaN</td>\n",
       "      <td>NaN</td>\n",
       "      <td>NaN</td>\n",
       "      <td>NaN</td>\n",
       "      <td>NaN</td>\n",
       "      <td>NaN</td>\n",
       "    </tr>\n",
       "    <tr>\n",
       "      <th>2</th>\n",
       "      <td>Grandes Regiões e Unidades da Federação</td>\n",
       "      <td>População</td>\n",
       "      <td>NaN</td>\n",
       "      <td>NaN</td>\n",
       "      <td>NaN</td>\n",
       "      <td>NaN</td>\n",
       "    </tr>\n",
       "    <tr>\n",
       "      <th>3</th>\n",
       "      <td>NaN</td>\n",
       "      <td>Total\\n(1 000 pessoas)</td>\n",
       "      <td>Distribuição percentual por cor ou raça (%)</td>\n",
       "      <td>NaN</td>\n",
       "      <td>NaN</td>\n",
       "      <td>NaN</td>\n",
       "    </tr>\n",
       "    <tr>\n",
       "      <th>4</th>\n",
       "      <td>NaN</td>\n",
       "      <td>NaN</td>\n",
       "      <td>Branca</td>\n",
       "      <td>Preta</td>\n",
       "      <td>Parda</td>\n",
       "      <td>Preta ou parda</td>\n",
       "    </tr>\n",
       "  </tbody>\n",
       "</table>\n",
       "</div>"
      ],
      "text/plain": [
       "  Tabela 1.1 - Distribuição da população, por cor ou raça, segundo Grandes Regiões e Unidades da Federação - Brasil - 2021  \\\n",
       "0                                                NaN                                                                         \n",
       "1                                                NaN                                                                         \n",
       "2            Grandes Regiões e Unidades da Federação                                                                         \n",
       "3                                                NaN                                                                         \n",
       "4                                                NaN                                                                         \n",
       "\n",
       "               Unnamed: 1                                   Unnamed: 2  \\\n",
       "0                     NaN                                          NaN   \n",
       "1                     NaN                                          NaN   \n",
       "2               População                                          NaN   \n",
       "3  Total\\n(1 000 pessoas)  Distribuição percentual por cor ou raça (%)   \n",
       "4                     NaN                                       Branca   \n",
       "\n",
       "  Unnamed: 3 Unnamed: 4      Unnamed: 5  \n",
       "0        NaN        NaN             NaN  \n",
       "1        NaN        NaN             NaN  \n",
       "2        NaN        NaN             NaN  \n",
       "3        NaN        NaN             NaN  \n",
       "4      Preta      Parda  Preta ou parda  "
      ]
     },
     "execution_count": 16,
     "metadata": {},
     "output_type": "execute_result"
    }
   ],
   "source": [
    "g_pop_geo.head()"
   ]
  },
  {
   "cell_type": "code",
   "execution_count": null,
   "id": "3a6fd664",
   "metadata": {},
   "outputs": [],
   "source": []
  }
 ],
 "metadata": {
  "kernelspec": {
   "display_name": "Python 3",
   "language": "python",
   "name": "python3"
  },
  "language_info": {
   "codemirror_mode": {
    "name": "ipython",
    "version": 3
   },
   "file_extension": ".py",
   "mimetype": "text/x-python",
   "name": "python",
   "nbconvert_exporter": "python",
   "pygments_lexer": "ipython3",
   "version": "3.8.8"
  }
 },
 "nbformat": 4,
 "nbformat_minor": 5
}
